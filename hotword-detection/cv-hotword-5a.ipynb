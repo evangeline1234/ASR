{
 "cells": [
  {
   "cell_type": "code",
   "execution_count": null,
   "metadata": {},
   "outputs": [],
   "source": [
    "import pandas as pd\n",
    "from transformers import Wav2Vec2ForCTC\n",
    "import matplotlib.pyplot as plt\n",
    "from concurrent.futures import ProcessPoolExecutor, ThreadPoolExecutor  "
   ]
  },
  {
   "cell_type": "code",
   "execution_count": null,
   "metadata": {},
   "outputs": [],
   "source": [
    "df = pd.read_csv('../asr-train/cv-valid-dev_with_predicted_transcriptions.csv')\n",
    "\n",
    "# Load the fine-tuned model\n",
    "model = Wav2Vec2ForCTC.from_pretrained('../asr-train/wav2vec2-large-960h-cv')\n",
    "model.eval()"
   ]
  },
  {
   "cell_type": "code",
   "execution_count": 12,
   "metadata": {},
   "outputs": [],
   "source": [
    "hotwords = [\"be careful\", \"destroy\", \"stranger\"]\n",
    "\n",
    "df[\"predicted_transcription\"] = df[\"predicted_transcription\"]\n",
    "detected_files = df[df[\"text\"].apply(lambda x: any(word in x for word in hotwords))][\"filename\"].tolist()\n",
    "\n",
    "with open(\"detected.txt\", \"w\") as f:\n",
    "    for filename in detected_files:\n",
    "        f.write(filename + \"\\n\")\n"
   ]
  }
 ],
 "metadata": {
  "kernelspec": {
   "display_name": "asr",
   "language": "python",
   "name": "python3"
  },
  "language_info": {
   "codemirror_mode": {
    "name": "ipython",
    "version": 3
   },
   "file_extension": ".py",
   "mimetype": "text/x-python",
   "name": "python",
   "nbconvert_exporter": "python",
   "pygments_lexer": "ipython3",
   "version": "3.13.2"
  }
 },
 "nbformat": 4,
 "nbformat_minor": 2
}
