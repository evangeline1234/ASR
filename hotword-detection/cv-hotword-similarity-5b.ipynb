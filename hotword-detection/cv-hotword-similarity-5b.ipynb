{
 "cells": [
  {
   "cell_type": "code",
   "execution_count": null,
   "metadata": {},
   "outputs": [],
   "source": [
    "from transformers import AutoTokenizer, AutoModel\n",
    "import torch\n",
    "import pandas as pd\n",
    "import numpy as np\n",
    "import os\n",
    "from sklearn.metrics.pairwise import cosine_similarity\n",
    "from sklearn.feature_extraction.text import CountVectorizer\n",
    "from tqdm import tqdm"
   ]
  },
  {
   "cell_type": "code",
   "execution_count": null,
   "metadata": {},
   "outputs": [],
   "source": [
    "# Load the CSV file into a DataFrame\n",
    "df = pd.read_csv('../asr-train/cv-valid-dev_with_predicted_transcriptions.csv')"
   ]
  },
  {
   "cell_type": "code",
   "execution_count": null,
   "metadata": {},
   "outputs": [],
   "source": [
    "tokenizer = AutoTokenizer.from_pretrained(\"hkunlp/instructor-large\")\n",
    "model = AutoModel.from_pretrained(\"hkunlp/instructor-large\")"
   ]
  },
  {
   "cell_type": "code",
   "execution_count": null,
   "metadata": {},
   "outputs": [],
   "source": [
    "# Function to extract words/phrases from a sentence\n",
    "def extract_phrases(sentence, ngram_range=(1, 2)):\n",
    "    # CountVectorizer to extract 1-gram and 2-gram phrases\n",
    "    vectorizer = CountVectorizer(ngram_range=ngram_range)\n",
    "    ngrams = vectorizer.fit_transform([sentence])\n",
    "    feature_names = vectorizer.get_feature_names_out()\n",
    "\n",
    "    return feature_names\n",
    "\n",
    "\n",
    "# Function to compute similarity between a word/phrase and hot words\n",
    "def compute_similarity(phrase, hot_words):\n",
    "    # Encode the phrase and hot words using the tokenizer and model\n",
    "    phrase_tokens = tokenizer([phrase], return_tensors=\"pt\", padding=True, truncation=True).to(device)\n",
    "    hotword_tokens = tokenizer(hot_words, return_tensors=\"pt\", padding=True, truncation=True).to(device)\n",
    "\n",
    "    # embed the phrase and hot words using the model\n",
    "    with torch.no_grad():\n",
    "        phrase_embedding = model.encoder(**phrase_tokens).last_hidden_state.mean(dim=1).cpu().numpy()\n",
    "        hotword_embeddings = model.encoder(**hotword_tokens).last_hidden_state.mean(dim=1).cpu().numpy()\n",
    "\n",
    "    # Compute cosine similarity between the phrase and each hot word\n",
    "    similarities = cosine_similarity(phrase_embedding, hotword_embeddings)\n",
    "\n",
    "    # Return True if the maximum similarity is above 0.7 (similarity threshold)\n",
    "    return np.max(similarities) > 0.7\n",
    "\n",
    "\n",
    "# Apply the similarity check to the 'generated_text' from fine-tuned model\n",
    "def check_similarity_in_sentence(sentence, hot_words):\n",
    "    phrases = extract_phrases(sentence)\n",
    "\n",
    "    # Check similarity for each phrase in the sentence\n",
    "    for phrase in phrases:\n",
    "        if compute_similarity(phrase, hot_words):\n",
    "            return True\n",
    "    return False"
   ]
  },
  {
   "cell_type": "code",
   "execution_count": null,
   "metadata": {},
   "outputs": [],
   "source": [
    "device = torch.device(\"cuda\" if torch.cuda.is_available() else \"cpu\")\n",
    "print(\"device: \", device)\n",
    "model = model.to(device)\n",
    "\n",
    "hotwords = ['be careful', 'destroy', 'stranger']\n",
    "\n",
    "tqdm.pandas()\n",
    "\n",
    "# Apply the similarity check for each sentence in the DataFrame\n",
    "df['similarity'] = df['predicted_transcription'].progress_apply(lambda x: check_similarity_in_sentence(x, hotwords))\n",
    "\n",
    "# Save the updated DataFrame\n",
    "output_file_path = '/content/drive/My Drive/cv-valid-dev-with-similarity.csv'  # Output file name\n",
    "df.to_csv(output_file_path, index=False)\n",
    "\n",
    "print(f\"Updated dataset saved to {output_file_path}\")\n"
   ]
  }
 ],
 "metadata": {
  "kernelspec": {
   "display_name": "asr",
   "language": "python",
   "name": "python3"
  },
  "language_info": {
   "codemirror_mode": {
    "name": "ipython",
    "version": 3
   },
   "file_extension": ".py",
   "mimetype": "text/x-python",
   "name": "python",
   "nbconvert_exporter": "python",
   "pygments_lexer": "ipython3",
   "version": "3.13.2"
  }
 },
 "nbformat": 4,
 "nbformat_minor": 2
}
